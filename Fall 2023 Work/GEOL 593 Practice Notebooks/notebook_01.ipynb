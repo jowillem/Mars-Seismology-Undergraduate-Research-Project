{
 "cells": [
  {
   "cell_type": "markdown",
   "id": "973aa578",
   "metadata": {},
   "source": [
    "# GEOL 593: Seismology and Earth Structure\n",
    "\n",
    "## Lab assignment 1: Introduction to Python\n",
    "This course consists of computer lab assignments that will rely heavily on using the Python programming language. We will also learn to work with the Obspy package (https://docs.obspy.org/), which is a commonly used seismology toolkit, written in Python. The easiest way to install Obspy is through Anaconda (https://www.anaconda.com), which is a Python \"distribution\" (i.e., a separate installed version of the Python software) designed to make installing/mangaging different code packages user-friendly. Directions for installing Anaconda and Obspy are given below.\n",
    "\n",
    "### Installing Anaconda\n",
    "Go to the Anaconda downloads page and download the appropriate installer for your operating system (Mac or Windows). It is likely that the correct version to download for you will be called \"64-Bit Graphical Installer\".\n",
    "\n",
    "### Installing Obspy\n",
    "One of the advantages of using Anaconda is that different python \"environments\" can be created, which make managing package dependencies easier. In other words, setting up an enivornment helps ensure there are no inconsistencies in dependencies of different Python software that you are using. First, we will create an environment especially to be used for Obspy. To do this, execute the following lines in Terminal (Mac) or Console (Windows):\n",
    "\n",
    "\n",
    "`conda create -n obspy python=3`\n",
    "\n",
    "`conda activate obspy`\n",
    "\n",
    "`conda install -c conda-forge obspy` \n",
    "\n",
    "`conda install -c conda-forge cartopy `\n",
    "\n",
    "`conda install jupyter `\n",
    "\n",
    "\n",
    "Once you have successfully installed Anaconda and Obspy, complete the Python \"crash course\" below, which includes 10 questions (in red). Answer the questions in the code blocks below each question. If you need to add a code block, click \"Insert\" in the Menu tab. If you need to add text, you can either add comments in a text box with the \"#\" character, or you can change the code block to \"Markdown\" in the Menu. To run a single cell, click on the cell with your cursor and \"Run\" in the Menu. Or, to run the entire notebook, click \"Cell -> Run All\"."
   ]
  },
  {
   "cell_type": "markdown",
   "id": "4d7d1051",
   "metadata": {},
   "source": [
    "## Python crash course\n",
    "\n",
    "The following is a short introduction to the Python programming language, which should hopefully be approachable to those without prior coding experience. Python is a widely used programming language in science and engineering, and is one of the most forgiving and easy to learn languages. One of things that makes Python easier to learn than some languages, such as Fortran and C/C++, is that Python is an $\\textit{interpreted}$, rather than $\\textit{compiled}$ language. In interpreted languages, it is not necessary to compile the code (i.e., build a machine readable executable file) prior to running. This makes it easier to make changes to code, and exlicit declarations of variable types and memory allocations do not need to be made. The drawback is that interpretted languages are typically slower than compiled languages, although this is not always the case. MATLAB is another commonly used interpreted language, although many people prefer Python because it openly available and doesn't require paying for a subscription. \n",
    "\n",
    "### 1) Data types\n",
    "As mentioned above, in Python it is not necessary to declare variable types. Rather, when you intiate a variable, its type will be decided automatically (i.e., it is \"dynamically typed\"). There are several main data types in Python, which we go over below.\n",
    "\n",
    "### 1.1) Numbers (floats and ints)\n",
    "Real numbers can either be \"floats\" (floating point numbers) or \"ints\" (integers), depending on how they are defined. \n"
   ]
  },
  {
   "cell_type": "code",
   "execution_count": 1,
   "id": "50afdea1",
   "metadata": {},
   "outputs": [
    {
     "name": "stdout",
     "output_type": "stream",
     "text": [
      "10.0\n",
      "5\n"
     ]
    }
   ],
   "source": [
    "#Define an integer and a float\n",
    "a = 10.0                 #float\n",
    "b = 5                    #int\n",
    "\n",
    "print(a)\n",
    "print(b)"
   ]
  },
  {
   "cell_type": "code",
   "execution_count": 2,
   "id": "e1c223b1",
   "metadata": {},
   "outputs": [
    {
     "name": "stdout",
     "output_type": "stream",
     "text": [
      "15.0\n",
      "5.0\n",
      "50.0\n",
      "2.0\n"
     ]
    }
   ],
   "source": [
    "#Mathematical operations (+,-,*,/) are easy to perform\n",
    "print(a+b)\n",
    "print(a-b)\n",
    "print(a*b)\n",
    "print(a/b)\n",
    "\n",
    "#note that when one variable is an int and the other is a float, the result is a float."
   ]
  },
  {
   "cell_type": "markdown",
   "id": "5a005fde",
   "metadata": {},
   "source": [
    "#### <font color='red'> Question 1. What is the resulting type when two ints are multiplied?</font>\n",
    "Show the result in the code block below. Note, you can determine the type of a variable using the type() function, which takes the variable as an argument."
   ]
  },
  {
   "cell_type": "code",
   "execution_count": 3,
   "id": "a40057bf",
   "metadata": {
    "scrolled": true
   },
   "outputs": [
    {
     "name": "stdout",
     "output_type": "stream",
     "text": [
      "[<class 'int'>, <class 'int'>, <class 'int'>]\n",
      "9\n"
     ]
    }
   ],
   "source": [
    "#Answer Q1 here\n",
    "#The resulting type when two integers are multiplied is an integer\n",
    "a = 3\n",
    "b = 3\n",
    "c = a * b\n",
    "print([type(a), type(b), type(c)])\n",
    "print(c)"
   ]
  },
  {
   "cell_type": "markdown",
   "id": "f28bc4cf",
   "metadata": {},
   "source": [
    "### 1.2) Strings\n",
    "Stings (character variables) can be declared by enclosing text in single quotes (') or double quotes(\"). "
   ]
  },
  {
   "cell_type": "code",
   "execution_count": 4,
   "id": "b50573f4",
   "metadata": {},
   "outputs": [
    {
     "name": "stdout",
     "output_type": "stream",
     "text": [
      "UIUCseismology\n",
      "U\n",
      "seismo\n",
      "uiuc SEISMOLOGY\n"
     ]
    }
   ],
   "source": [
    "course_name = 'seismology'\n",
    "university = \"UIUC\"\n",
    "\n",
    "#A variety of operations can be performed on string variables. \n",
    "\n",
    "#They can be added (concatenated) using a +\n",
    "print(university+course_name)\n",
    "\n",
    "#Specific characters can be indexed (note that Python is a 0-based index language, meaning the 1st index is 0)\n",
    "print(university[0])\n",
    "\n",
    "#They can be sliced\n",
    "print(course_name[0:6])\n",
    "\n",
    "#They can be made to be all capitalized or lower-case\n",
    "print(university.lower(),course_name.upper())\n",
    "\n",
    "#And much more..."
   ]
  },
  {
   "cell_type": "markdown",
   "id": "61712b85",
   "metadata": {},
   "source": [
    "In Python, strings are a special $\\textit{class}$ called 'str'. A class can be thought of as a data type that has built in methods and attributes that can be called on an $\\textit{instance}$ of that class. In the above example, the function \".lower()\" is an example of a method that can be called on an instance of a string in order to make all of the characters lower case. \n",
    "\n",
    "#### <font color='red'> Question 2. Find another method that can be called on the string class and describe what it does. Include a usage example in the code block below. </font> \n",
    "Hint, to see the methods available to a str object, run \"help(str)\" in a code block (without the quotes)."
   ]
  },
  {
   "cell_type": "code",
   "execution_count": 5,
   "id": "8c0044ea",
   "metadata": {},
   "outputs": [
    {
     "name": "stdout",
     "output_type": "stream",
     "text": [
      "UIUC SEISMOLOGY\n"
     ]
    }
   ],
   "source": [
    "#Answer Q2 here\n",
    "text = 'uiuc seismology'\n",
    "up = text.upper()\n",
    "print(up)"
   ]
  },
  {
   "cell_type": "markdown",
   "id": "18217b08",
   "metadata": {},
   "source": [
    "### 1.3) Lists\n",
    "\n",
    "In Python, a list is simply a collection of different objects, which can be of any type. For example, it can be a list of floats, ints, strings, or some combination thereof."
   ]
  },
  {
   "cell_type": "code",
   "execution_count": 6,
   "id": "50cc1db5",
   "metadata": {},
   "outputs": [
    {
     "name": "stdout",
     "output_type": "stream",
     "text": [
      "3\n",
      "3\n",
      "['3', 2.0, 1]\n",
      "['foo', 'bar']\n"
     ]
    }
   ],
   "source": [
    "my_list = [1,2.0,'3']\n",
    "\n",
    "#indexing a position in the list works the same was as it does with strings.\n",
    "my_list[0]\n",
    "\n",
    "#select the last entry in the list\n",
    "print(my_list[2]) #explicity give the index\n",
    "print(my_list[-1]) #works for a list of any length\n",
    "\n",
    "#you can reverse the order of the list\n",
    "print(my_list[::-1])\n",
    "    \n",
    "#lists can also be added to using \".append()\". \n",
    "my_list2 = [] #create an empty list\n",
    "my_list2.append('foo')\n",
    "my_list2.append('bar')\n",
    "print(my_list2)"
   ]
  },
  {
   "cell_type": "markdown",
   "id": "9717a9c6",
   "metadata": {},
   "source": [
    "#### <font color='red'> Question 3. In the code block below, define a list with 5 items and show how to retrieve the first 2 entries of the reverse-ordered list. </font> "
   ]
  },
  {
   "cell_type": "code",
   "execution_count": 7,
   "id": "07d4ae96",
   "metadata": {},
   "outputs": [
    {
     "name": "stdout",
     "output_type": "stream",
     "text": [
      "Friday\n",
      "Thursday\n"
     ]
    }
   ],
   "source": [
    "#Answer Q3 here\n",
    "days = ['Monday', 'Tuesday', 'Wednesday', 'Thursday', 'Friday']\n",
    "reversed_days = days[::-1]\n",
    "print(reversed_days[0])\n",
    "print(reversed_days[1])"
   ]
  },
  {
   "cell_type": "markdown",
   "id": "24b71638",
   "metadata": {},
   "source": [
    "### 1.4) Dictionaries\n",
    "\n",
    "Dictionaries are another data type for organizing items. They are similar to lists, although specific entries are accessed using keys. "
   ]
  },
  {
   "cell_type": "code",
   "execution_count": 8,
   "id": "e9501d3c",
   "metadata": {},
   "outputs": [
    {
     "name": "stdout",
     "output_type": "stream",
     "text": [
      "{'month': 'January', 'day': '5th', 'year': '2023'}\n",
      "January\n",
      "dict_keys(['month', 'day', 'year'])\n"
     ]
    }
   ],
   "source": [
    "my_dict = {} #empty dictionary\n",
    "my_dict['month'] = 'January'\n",
    "my_dict['day'] = '5th'\n",
    "my_dict['year'] = '2023'\n",
    "\n",
    "print(my_dict)\n",
    "print(my_dict['month'])\n",
    "\n",
    "#the available keys can be viewed with the \".keys()\" method\n",
    "print(my_dict.keys())"
   ]
  },
  {
   "cell_type": "markdown",
   "id": "fcca75ad",
   "metadata": {},
   "source": [
    "### 2) Numpy\n",
    "\n",
    "Much of the power of Python comes from utilizing libraries to enhance scientific computing capabilities. One of the main libraries that we will use is Numpy. In order to use it, we will first need to import it. "
   ]
  },
  {
   "cell_type": "code",
   "execution_count": 9,
   "id": "54e03665",
   "metadata": {},
   "outputs": [],
   "source": [
    "import numpy as np"
   ]
  },
  {
   "cell_type": "markdown",
   "id": "2fd641fb",
   "metadata": {},
   "source": [
    "The most useful feature of numpy is its \"array\" data type, which is how we will work with N-dimensional matrices in Python."
   ]
  },
  {
   "cell_type": "code",
   "execution_count": 10,
   "id": "a61bf80c",
   "metadata": {},
   "outputs": [
    {
     "name": "stdout",
     "output_type": "stream",
     "text": [
      "[[0. 0. 0. 0. 0. 0. 0. 0. 0. 0.]\n",
      " [0. 0. 0. 0. 0. 0. 0. 0. 0. 0.]\n",
      " [0. 0. 0. 0. 0. 0. 0. 0. 0. 0.]\n",
      " [0. 0. 0. 0. 0. 0. 0. 0. 0. 0.]\n",
      " [0. 0. 0. 0. 0. 0. 0. 0. 0. 0.]]\n",
      "(5, 10)\n",
      "[ 0.   0.1  0.2  0.3  0.4  0.5  0.6  0.7  0.8  0.9  1.   1.1  1.2  1.3\n",
      "  1.4  1.5  1.6  1.7  1.8  1.9  2.   2.1  2.2  2.3  2.4  2.5  2.6  2.7\n",
      "  2.8  2.9  3.   3.1  3.2  3.3  3.4  3.5  3.6  3.7  3.8  3.9  4.   4.1\n",
      "  4.2  4.3  4.4  4.5  4.6  4.7  4.8  4.9  5.   5.1  5.2  5.3  5.4  5.5\n",
      "  5.6  5.7  5.8  5.9  6.   6.1  6.2  6.3  6.4  6.5  6.6  6.7  6.8  6.9\n",
      "  7.   7.1  7.2  7.3  7.4  7.5  7.6  7.7  7.8  7.9  8.   8.1  8.2  8.3\n",
      "  8.4  8.5  8.6  8.7  8.8  8.9  9.   9.1  9.2  9.3  9.4  9.5  9.6  9.7\n",
      "  9.8  9.9 10. ]\n",
      "(101,)\n",
      "0.0 10.0\n"
     ]
    }
   ],
   "source": [
    "rows = 5\n",
    "cols = 10\n",
    "M = np.zeros((rows,cols)) #initialize a matrix with 5 rows and 10 columns, filled with zeros\n",
    "print(M)\n",
    "#The shape of a numpy array can be accessed using \".shape\"\n",
    "print(M.shape)\n",
    "\n",
    "x = np.linspace(0,10,101) #make a \"linspace\" linear space, from 0 to 10, with a step size of 0.1\n",
    "#the last argument is the number of points to use\n",
    "\n",
    "print(x)\n",
    "print(x.shape)\n",
    "\n",
    "#indexing works similar to list indexing, although now there can be more dimensions\n",
    "print(x[0],x[-1])"
   ]
  },
  {
   "cell_type": "markdown",
   "id": "1343dc4c",
   "metadata": {},
   "source": [
    "#### <font color='red'> Question 4. There are many useful methods that can be called on numpy arrays. What methods can be called to find the mean and standard deviation of all of the values in an array? (Show an example in the code block below) </font> \n",
    "Hint- As before, you can call the 'help' function, to see methods available (e.g., help(x), where x is a numpy array). Or an internet search engine is always helpful!"
   ]
  },
  {
   "cell_type": "code",
   "execution_count": 11,
   "id": "4c2775b7",
   "metadata": {},
   "outputs": [
    {
     "name": "stdout",
     "output_type": "stream",
     "text": [
      "3.0\n",
      "1.4142135623730951\n"
     ]
    }
   ],
   "source": [
    "#Answer Q4 here\n",
    "import numpy as np\n",
    "\n",
    "array = np.array([1, 2, 3, 4, 5])\n",
    "\n",
    "mean_value = np.mean(array)\n",
    "\n",
    "std_deviation = np.std(array)\n",
    "\n",
    "print(mean_value)\n",
    "print(std_deviation)"
   ]
  },
  {
   "cell_type": "markdown",
   "id": "d7d2a660",
   "metadata": {},
   "source": [
    "### 3) Functions\n",
    "\n",
    "Often, when solving complex problems, it is easier to break the problem up into simpler steps. In Python, we can define custom functions for specific tasks that will help us do this. A function is something that takes an argument (or arguments) and returns some output. They can be mathematical functions (as in the example below), but they need not be. "
   ]
  },
  {
   "cell_type": "code",
   "execution_count": 12,
   "id": "9f807494",
   "metadata": {},
   "outputs": [],
   "source": [
    "def raise_to_power(a,power):\n",
    "    '''\n",
    "    Function that takes a number and raises it to a power.\n",
    "    Comment blocks like this are often used to describe the inputs and outputs of a function\n",
    "    \n",
    "    inputs\n",
    "    a: value to be raised to an exponent\n",
    "    power: exponent\n",
    "    \n",
    "    returns\n",
    "    a**power\n",
    "    '''\n",
    "    \n",
    "    result = a**power\n",
    "    return result"
   ]
  },
  {
   "cell_type": "code",
   "execution_count": 13,
   "id": "062d6b2d",
   "metadata": {},
   "outputs": [
    {
     "data": {
      "text/plain": [
       "8.0"
      ]
     },
     "execution_count": 13,
     "metadata": {},
     "output_type": "execute_result"
    }
   ],
   "source": [
    "val = 2.0\n",
    "n = 3.0\n",
    "raise_to_power(a=val,power=n)"
   ]
  },
  {
   "cell_type": "markdown",
   "id": "f11d5cea",
   "metadata": {},
   "source": [
    "#### <font color='red'> Question 5. Write a function that takes a numpy array and returns the cosine of the values in the array. With numpy this can be as simple as two lines! </font> "
   ]
  },
  {
   "cell_type": "code",
   "execution_count": 14,
   "id": "1c0710cc",
   "metadata": {},
   "outputs": [],
   "source": [
    "#Answer Q5 here\n",
    "import numpy as np\n",
    "def compute_cosine(input_array):\n",
    "    cosine_values = np.cos(input_array)\n",
    "    return cosine_values"
   ]
  },
  {
   "cell_type": "markdown",
   "id": "1704a8f2",
   "metadata": {},
   "source": [
    "### 4) Loops\n",
    "\n",
    "Loops are important part of any programming language. In Python, the most common type of loop is the \"for\" loop, which sequentially loops through an 'iterable' object (e.g., a list or a 1D array). There are multiple ways you will commonly see for loops written (see below).  "
   ]
  },
  {
   "cell_type": "code",
   "execution_count": 15,
   "id": "678b64b3",
   "metadata": {},
   "outputs": [
    {
     "name": "stdout",
     "output_type": "stream",
     "text": [
      "0\n",
      "1\n",
      "2\n",
      "3\n",
      "4\n",
      "5\n",
      "6\n",
      "7\n",
      "8\n",
      "9\n",
      "10\n"
     ]
    }
   ],
   "source": [
    "#loop over the values 1 to 10\n",
    "for i in range(0,11): #note, the range function excludes the upper limit\n",
    "    print(i)"
   ]
  },
  {
   "cell_type": "code",
   "execution_count": 16,
   "id": "f896094b",
   "metadata": {},
   "outputs": [
    {
     "name": "stdout",
     "output_type": "stream",
     "text": [
      "0 0.0\n",
      "1 10.0\n",
      "2 20.0\n",
      "3 30.0\n",
      "4 40.0\n",
      "5 50.0\n",
      "6 60.0\n",
      "7 70.0\n",
      "8 80.0\n",
      "9 90.0\n",
      "10 100.0\n"
     ]
    }
   ],
   "source": [
    "#loop through the values of an array\n",
    "x = np.linspace(0,100,11)\n",
    "for i in range(0,len(x)): #'len' gives the length of an array\n",
    "    print(i,x[i])         #i is the index, x[i] is the value of x at that index"
   ]
  },
  {
   "cell_type": "code",
   "execution_count": 17,
   "id": "f56747a7",
   "metadata": {},
   "outputs": [
    {
     "name": "stdout",
     "output_type": "stream",
     "text": [
      "0 a\n",
      "1 b\n",
      "2 c\n",
      "3 d\n",
      "4 e\n"
     ]
    }
   ],
   "source": [
    "#loop through a list of strings\n",
    "my_list = ['a','b','c','d','e']\n",
    "for i,item in enumerate(my_list): #the enumerate function provides a 'counter'\n",
    "    print(i,item)"
   ]
  },
  {
   "cell_type": "markdown",
   "id": "80061fa9",
   "metadata": {},
   "source": [
    "### 5) Conditionals ( if, elif, else)\n",
    "\n",
    "Conditional statements such as \"if\" and \"else\" are necessary for controlling the flow of code. In Python, the most common conditionals are \"if\", \"elif\" (else if), and \"else\". If a conditional statement is met, True is returned. Otherwise, False is returned."
   ]
  },
  {
   "cell_type": "code",
   "execution_count": 18,
   "id": "2d987ae5",
   "metadata": {},
   "outputs": [
    {
     "name": "stdout",
     "output_type": "stream",
     "text": [
      "      __\n",
      "' .--()°'.'\n",
      "'|, . ,'\n",
      " !_-(_!\n"
     ]
    }
   ],
   "source": [
    "animal = 'elephant'\n",
    "\n",
    "if animal == 'elephant':\n",
    "    print(\"      __\")\n",
    "    print(\"' .--()°'.'\")\n",
    "    print(\"'|, . ,'\")\n",
    "    print(\" !_-(_!\")\n",
    "    \n",
    "elif animal == 'giraffe':\n",
    "    print(r'       _,,')\n",
    "    print(r'     \"-%\\~\"')\n",
    "    print(r'         %\\~')\n",
    "    print(r'         |%_`,~')\n",
    "    print(r'         /| ||')\n",
    "    print(r'        / | | \\ ')\n",
    "    \n",
    "else:\n",
    "    print('its not an elephant or a giraffe')"
   ]
  },
  {
   "cell_type": "markdown",
   "id": "b26a15aa",
   "metadata": {},
   "source": [
    "Often you will want to execute lines of code if a certain variable is either True or False. In this case, you don't need to explicity check if the variable is equal to True or equal to False. For example, the lines of code below produce equivalent results."
   ]
  },
  {
   "cell_type": "code",
   "execution_count": 19,
   "id": "734db555",
   "metadata": {},
   "outputs": [
    {
     "name": "stdout",
     "output_type": "stream",
     "text": [
      "Today is Thursday\n",
      "Today is Thursday\n"
     ]
    }
   ],
   "source": [
    "is_thursday = True\n",
    "\n",
    "if is_thursday == True:\n",
    "    print('Today is Thursday')\n",
    "    \n",
    "if is_thursday:\n",
    "    print('Today is Thursday')"
   ]
  },
  {
   "cell_type": "markdown",
   "id": "ae334308",
   "metadata": {},
   "source": [
    "#### <font color='red'> Question 6. Decoding a cipher.  </font> \n",
    "\n",
    "In cryptography, a Caesar cipher is a very simple encryption techniques in which each letter in the plain text is replaced by a letter some fixed number of positions down the alphabet. For example, with a shift of 3, A would be replaced by D, B would become E, and so on. The method is named after Julius Caesar, who used it to communicate with his generals. ROT-13 (\"rotate by 13 places\") is a widely used example of a Caesar cipher where the shift is 13. In Python, the key for ROT-13 may be represented by means of the following dictionary:\n",
    "\n",
    "```python\n",
    "key = {'a':'n', 'b':'o', 'c':'p', 'd':'q', 'e':'r', 'f':'s', 'g':'t', 'h':'u', \n",
    "       'i':'v', 'j':'w', 'k':'x', 'l':'y', 'm':'z', 'n':'a', 'o':'b', 'p':'c', \n",
    "       'q':'d', 'r':'e', 's':'f', 't':'g', 'u':'h', 'v':'i', 'w':'j', 'x':'k',\n",
    "       'y':'l', 'z':'m', 'A':'N', 'B':'O', 'C':'P', 'D':'Q', 'E':'R', 'F':'S', \n",
    "       'G':'T', 'H':'U', 'I':'V', 'J':'W', 'K':'X', 'L':'Y', 'M':'Z', 'N':'A', \n",
    "       'O':'B', 'P':'C', 'Q':'D', 'R':'E', 'S':'F', 'T':'G', 'U':'H', 'V':'I', \n",
    "       'W':'J', 'X':'K', 'Y':'L', 'Z':'M'}\n",
    "```\n",
    "\n",
    "Your task in this exercise is to implement an decoder of ROT-13. Once you're done, you will be able to read the following secret message:\n",
    "\n",
    "```\n",
    "Qngn! Qngn! Qngn! V pnag znxr oevpxf jvgubhg pynl\n",
    "```\n",
    "\n",
    "I took this example from the Python Crash course by Lion Krisher (https://nbviewer.org/github/obspy/docs/blob/master/workshops/2017-10-25_iris_stcu/Python%20Introduction/Python_Crash_Course.ipynb), but I changed the secret message to one of my favorite Sherlock Holmes quotes."
   ]
  },
  {
   "cell_type": "code",
   "execution_count": 20,
   "id": "bc028182",
   "metadata": {},
   "outputs": [
    {
     "name": "stdout",
     "output_type": "stream",
     "text": [
      "Data! Data! Data! I cant make bricks without clay\n"
     ]
    }
   ],
   "source": [
    "#Answer Q6 here\n",
    "def decode_rot13(message):\n",
    "    key = {'a':'n', 'b':'o', 'c':'p', 'd':'q', 'e':'r', 'f':'s', 'g':'t', 'h':'u', \n",
    "           'i':'v', 'j':'w', 'k':'x', 'l':'y', 'm':'z', 'n':'a', 'o':'b', 'p':'c', \n",
    "           'q':'d', 'r':'e', 's':'f', 't':'g', 'u':'h', 'v':'i', 'w':'j', 'x':'k',\n",
    "           'y':'l', 'z':'m', 'A':'N', 'B':'O', 'C':'P', 'D':'Q', 'E':'R', 'F':'S', \n",
    "           'G':'T', 'H':'U', 'I':'V', 'J':'W', 'K':'X', 'L':'Y', 'M':'Z', 'N':'A', \n",
    "           'O':'B', 'P':'C', 'Q':'D', 'R':'E', 'S':'F', 'T':'G', 'U':'H', 'V':'I', \n",
    "           'W':'J', 'X':'K', 'Y':'L', 'Z':'M'}\n",
    "    \n",
    "    decoded_message = []\n",
    "    for char in message:\n",
    "        if char in key:\n",
    "            decoded_message.append(key[char])\n",
    "        else:\n",
    "            decoded_message.append(char)\n",
    "    \n",
    "    return ''.join(decoded_message)\n",
    "\n",
    "encoded_message = \"Qngn! Qngn! Qngn! V pnag znxr oevpxf jvgubhg pynl\"\n",
    "decoded_message = decode_rot13(encoded_message)\n",
    "print(decoded_message)"
   ]
  },
  {
   "cell_type": "markdown",
   "id": "9c9a8ab6",
   "metadata": {},
   "source": [
    "### 6) Reading and writing files\n",
    "\n",
    "To read and write text files in python, we use the \"open\" command. Depending on whether you want to read or write, you will open the file in a different mode (either \"r\" for read existing file, \"a\" for append to existing file, or \"w\" for write new file). In the example below, we will read the plain text file \"yellow_submarine.txt\" and print lines to the screen. You first should download this file from the github directory, under \"data/lab_01\" (if you didn't already clone the whole repository). "
   ]
  },
  {
   "cell_type": "code",
   "execution_count": 21,
   "id": "cd4b8349",
   "metadata": {},
   "outputs": [
    {
     "ename": "FileNotFoundError",
     "evalue": "[Errno 2] No such file or directory: '../data/lab_01/yellow_submarine.txt'",
     "output_type": "error",
     "traceback": [
      "\u001b[1;31m---------------------------------------------------------------------------\u001b[0m",
      "\u001b[1;31mFileNotFoundError\u001b[0m                         Traceback (most recent call last)",
      "Cell \u001b[1;32mIn[21], line 1\u001b[0m\n\u001b[1;32m----> 1\u001b[0m f \u001b[38;5;241m=\u001b[39m \u001b[38;5;28;43mopen\u001b[39;49m\u001b[43m(\u001b[49m\u001b[38;5;124;43m'\u001b[39;49m\u001b[38;5;124;43m../data/lab_01/yellow_submarine.txt\u001b[39;49m\u001b[38;5;124;43m'\u001b[39;49m\u001b[43m,\u001b[49m\u001b[38;5;124;43m'\u001b[39;49m\u001b[38;5;124;43mr\u001b[39;49m\u001b[38;5;124;43m'\u001b[39;49m\u001b[43m)\u001b[49m \u001b[38;5;66;03m#Make sure you download the file from github first, and put it in the same\u001b[39;00m\n\u001b[0;32m      2\u001b[0m \u001b[38;5;66;03m#directory as the notebook (or specify the path)\u001b[39;00m\n\u001b[0;32m      4\u001b[0m lines \u001b[38;5;241m=\u001b[39m f\u001b[38;5;241m.\u001b[39mreadlines() \u001b[38;5;66;03m#returns all lines as a list\u001b[39;00m\n",
      "File \u001b[1;32m~\\anaconda3\\envs\\obspy\\lib\\site-packages\\IPython\\core\\interactiveshell.py:284\u001b[0m, in \u001b[0;36m_modified_open\u001b[1;34m(file, *args, **kwargs)\u001b[0m\n\u001b[0;32m    277\u001b[0m \u001b[38;5;28;01mif\u001b[39;00m file \u001b[38;5;129;01min\u001b[39;00m {\u001b[38;5;241m0\u001b[39m, \u001b[38;5;241m1\u001b[39m, \u001b[38;5;241m2\u001b[39m}:\n\u001b[0;32m    278\u001b[0m     \u001b[38;5;28;01mraise\u001b[39;00m \u001b[38;5;167;01mValueError\u001b[39;00m(\n\u001b[0;32m    279\u001b[0m         \u001b[38;5;124mf\u001b[39m\u001b[38;5;124m\"\u001b[39m\u001b[38;5;124mIPython won\u001b[39m\u001b[38;5;124m'\u001b[39m\u001b[38;5;124mt let you open fd=\u001b[39m\u001b[38;5;132;01m{\u001b[39;00mfile\u001b[38;5;132;01m}\u001b[39;00m\u001b[38;5;124m by default \u001b[39m\u001b[38;5;124m\"\u001b[39m\n\u001b[0;32m    280\u001b[0m         \u001b[38;5;124m\"\u001b[39m\u001b[38;5;124mas it is likely to crash IPython. If you know what you are doing, \u001b[39m\u001b[38;5;124m\"\u001b[39m\n\u001b[0;32m    281\u001b[0m         \u001b[38;5;124m\"\u001b[39m\u001b[38;5;124myou can use builtins\u001b[39m\u001b[38;5;124m'\u001b[39m\u001b[38;5;124m open.\u001b[39m\u001b[38;5;124m\"\u001b[39m\n\u001b[0;32m    282\u001b[0m     )\n\u001b[1;32m--> 284\u001b[0m \u001b[38;5;28;01mreturn\u001b[39;00m \u001b[43mio_open\u001b[49m\u001b[43m(\u001b[49m\u001b[43mfile\u001b[49m\u001b[43m,\u001b[49m\u001b[43m \u001b[49m\u001b[38;5;241;43m*\u001b[39;49m\u001b[43margs\u001b[49m\u001b[43m,\u001b[49m\u001b[43m \u001b[49m\u001b[38;5;241;43m*\u001b[39;49m\u001b[38;5;241;43m*\u001b[39;49m\u001b[43mkwargs\u001b[49m\u001b[43m)\u001b[49m\n",
      "\u001b[1;31mFileNotFoundError\u001b[0m: [Errno 2] No such file or directory: '../data/lab_01/yellow_submarine.txt'"
     ]
    }
   ],
   "source": [
    "f = open('../data/lab_01/yellow_submarine.txt','r') #Make sure you download the file from github first, and put it in the same\n",
    "#directory as the notebook (or specify the path)\n",
    "\n",
    "lines = f.readlines() #returns all lines as a list\n",
    "\n",
    "#We can split up text strings using a delimiter with the \"split\" function. The default is to use whitespace.\n",
    "print(lines[0]) #print first line of song\n",
    "print(lines[0].split()) #split the first line of the song by whitespace\n",
    "\n",
    "#Note that split returns a list object (split by the delimiter)\n",
    "print(lines[-1]) #print last line of song"
   ]
  },
  {
   "cell_type": "markdown",
   "id": "929e17e5",
   "metadata": {},
   "source": [
    "#### <font color='red'> Question 7. Make a loop to count how many times the word \"submarine\"(s) appears in the song (regardless of case!).  </font> "
   ]
  },
  {
   "cell_type": "code",
   "execution_count": 28,
   "id": "9375a5ac",
   "metadata": {},
   "outputs": [
    {
     "name": "stdout",
     "output_type": "stream",
     "text": [
      "28\n"
     ]
    }
   ],
   "source": [
    "#Answer Q7 here\n",
    "lyrics = \"In the town where I was born\\\n",
    "Lived a man who sailed to sea\\\n",
    "And he told us of his life\\\n",
    "In the land of submarines\\\n",
    "So we sailed on to the sun\\\n",
    "'Til we found a sea of green\\\n",
    "And we lived beneath the waves\\\n",
    "In our yellow submarine\\\n",
    "We all live in a yellow submarine\\\n",
    "Yellow submarine, yellow submarine\\\n",
    "We all live in a yellow submarine\\\n",
    "Yellow submarine, yellow submarine\\\n",
    "And our friends are all aboard\\\n",
    "Many more of them live next door\\\n",
    "And the band begins to play\\\n",
    "We all live in a yellow submarine\\\n",
    "Yellow submarine, yellow submarine\\\n",
    "We all live in a yellow submarine\\\n",
    "Yellow submarine, yellow submarine\\\n",
    "Full steam ahead, Mister Boatswain, full steam ahead\\\n",
    "Full steam ahead it is, Sergeant\\\n",
    "(Cut the cable, drop the cable)\\\n",
    "Aye-aye, sir, aye-aye\\\n",
    "Captain, captain\\\n",
    "As we live a life of ease (a life of ease)\\\n",
    "Every one of us (every one of us)\\\n",
    "Has all we need (has all we need)\\\n",
    "Sky of blue (sky of blue)\\\n",
    "And sea of green (sea of green)\\\n",
    "In our yellow (in our yellow)\\\n",
    "Submarine (submarine, aha)\\\n",
    "We all live in a yellow submarine\\\n",
    "A yellow submarine, yellow submarine\\\n",
    "We all live in a yellow submarine\\\n",
    "A yellow submarine, yellow submarine\\\n",
    "We all live in a yellow submarine\\\n",
    "Yellow submarine, yellow submarine\\\n",
    "We all live in a yellow submarine\\\n",
    "Yellow submarine, yellow submarine\"\n",
    "\n",
    "def count_word_occurrences(lyrics):\n",
    "    submarine = 'submarine'\n",
    "    lyrics_lower = lyrics.lower()\n",
    "    target_word_lower = submarine.lower()\n",
    "    \n",
    "    words = lyrics_lower.split()\n",
    "    \n",
    "    word_count = 0\n",
    "    \n",
    "    for word in words:\n",
    "        cleaned_word = word.strip('.,!?()[]{}\"\\'')\n",
    "        if target_word_lower in cleaned_word:\n",
    "            word_count += 1\n",
    "    \n",
    "    return word_count\n",
    "word_count = count_word_occurrences(lyrics)\n",
    "print(word_count)"
   ]
  },
  {
   "cell_type": "markdown",
   "id": "7534b494",
   "metadata": {},
   "source": [
    "#### <font color='red'> Question 8. Write a new file \"yellow_submarine_caps.txt\", with all of the song lyrics capitalized.  </font> \n",
    "\n",
    "Hint. First open a new file with, for example, \"f_out = open('yellow_submarine_caps.txt','w')\", and then loop through each line and write the capitalized version to the new file with the f_out.write() function. Note, the text string to start a new line is \"\\n\"."
   ]
  },
  {
   "cell_type": "code",
   "execution_count": null,
   "id": "305f7c1f",
   "metadata": {},
   "outputs": [],
   "source": [
    "#Answer Q8 here\n",
    "\"In the town where I was born\\\n",
    "Lived a man who sailed to sea\\\n",
    "And he told us of his life\\\n",
    "In the land of submarines\\\n",
    "So we sailed on to the sun\\\n",
    "'Til we found a sea of green\\\n",
    "And we lived beneath the waves\\\n",
    "In our yellow submarine\\\n",
    "We all live in a yellow submarine\\\n",
    "Yellow submarine, yellow submarine\\\n",
    "We all live in a yellow submarine\\\n",
    "Yellow submarine, yellow submarine\\\n",
    "And our friends are all aboard\\\n",
    "Many more of them live next door\\\n",
    "And the band begins to play\\\n",
    "We all live in a yellow submarine\\\n",
    "Yellow submarine, yellow submarine\\\n",
    "We all live in a yellow submarine\\\n",
    "Yellow submarine, yellow submarine\\\n",
    "Full steam ahead, Mister Boatswain, full steam ahead\\\n",
    "Full steam ahead it is, Sergeant\\\n",
    "(Cut the cable, drop the cable)\\\n",
    "Aye-aye, sir, aye-aye\\\n",
    "Captain, captain\\\n",
    "As we live a life of ease (a life of ease)\\\n",
    "Every one of us (every one of us)\\\n",
    "Has all we need (has all we need)\\\n",
    "Sky of blue (sky of blue)\\\n",
    "And sea of green (sea of green)\\\n",
    "In our yellow (in our yellow)\\\n",
    "Submarine (submarine, aha)\\\n",
    "We all live in a yellow submarine\\\n",
    "A yellow submarine, yellow submarine\\\n",
    "We all live in a yellow submarine\\\n",
    "A yellow submarine, yellow submarine\\\n",
    "We all live in a yellow submarine\\\n",
    "Yellow submarine, yellow submarine\\\n",
    "We all live in a yellow submarine\\\n",
    "Yellow submarine, yellow submarine\"\n",
    "\n",
    "upper = lyrics.upper()\n",
    "print(upper)"
   ]
  },
  {
   "cell_type": "markdown",
   "id": "25d333c7",
   "metadata": {},
   "source": [
    "### 7) Matplotlib\n",
    "\n",
    "Matplotlib is a versatile plotting package that can be used to make many types of scientific figures. We will use it extensively in this class. The full documenation can be found here:  https://matplotlib.org/stable/index.html\n",
    "\n",
    "Below, we will go over one of the simplest examples, which is to make a plot of two variables against eachother (i.e., an x vs y plot). "
   ]
  },
  {
   "cell_type": "code",
   "execution_count": null,
   "id": "86cf98c0",
   "metadata": {},
   "outputs": [],
   "source": [
    "import matplotlib.pyplot as plt\n",
    "%matplotlib inline \n",
    "#the line above is required to make the plots show up in the jupyter notebook\n",
    "\n",
    "npts = 101 #number of points\n",
    "x = np.linspace(0,10,npts)\n",
    "y = np.linspace(0,20,npts)\n",
    "\n",
    "plt.plot(x,y)\n",
    "plt.xlabel('x')\n",
    "plt.ylabel('y')"
   ]
  },
  {
   "cell_type": "markdown",
   "id": "334e2970",
   "metadata": {},
   "source": [
    "Often we want to make more complex figures with multiple sub-panels. Matplotlib allows us to do this by using \"axes\" objects. See the examples below for how to use multiple axes. "
   ]
  },
  {
   "cell_type": "code",
   "execution_count": null,
   "id": "12110abb",
   "metadata": {},
   "outputs": [],
   "source": [
    "ncols = 2 #number of columns\n",
    "nrows = 1 #number of rows\n",
    "fig,axes = plt.subplots(figsize=[8,4],ncols=ncols,nrows=nrows) #specify figure size in inches [width,height].\n",
    "\n",
    "#calling \"plt.subplots\" returns two objects. The first is the \"figure\" object, and the second is an array of axes.\n",
    "#The array should be of length 2, since we have 1 column and 2 rows.\n",
    "print(type(axes),axes.shape)\n",
    "\n",
    "#We can plot data on the axes by calling their index\n",
    "axes[0].scatter(np.random.random(100),np.random.random(100)) #left subplot is the first axes object\n",
    "axes[1].imshow(np.random.random((100,100))) #imshow plots an array using a colormap\n",
    "\n",
    "axes[0].set_xlabel('X')\n",
    "axes[1].set_xlabel('X')\n",
    "axes[0].set_ylabel('Y')\n",
    "axes[1].set_ylabel('Y')"
   ]
  },
  {
   "cell_type": "markdown",
   "id": "f6f69ff8",
   "metadata": {},
   "source": [
    "#### <font color='red'> Question 9. Plotting harmonic functions. Using the cosine function you defined earlier, plot a graph of $y = \\cos(\\omega)$ from $\\omega = 0$ to $\\omega = 6\\pi$. Include axes labels (e.g., https://matplotlib.org/stable/gallery/pyplots/pyplot_simple.html)  </font> \n",
    "Note, the constant $\\pi$ can be called with Numpy using np.pi"
   ]
  },
  {
   "cell_type": "code",
   "execution_count": 29,
   "id": "4a5ede86",
   "metadata": {},
   "outputs": [
    {
     "data": {
      "image/png": "[encoded data removed]",
      "text/plain": [
       "<Figure size 800x600 with 1 Axes>"
      ]
     },
     "metadata": {},
     "output_type": "display_data"
    }
   ],
   "source": [
    "#Answer Q9 here\n",
    "import numpy as np\n",
    "import matplotlib.pyplot as plt\n",
    "\n",
    "omega_values = np.linspace(0, 6 * np.pi, 1000)\n",
    "\n",
    "y_values = compute_cosine(omega_values)\n",
    "\n",
    "plt.figure(figsize=(8, 6))\n",
    "plt.plot(omega_values, y_values, color='blue', label='y = cos(ω)')\n",
    "plt.xlabel('ω')\n",
    "plt.ylabel('y')\n",
    "plt.title('Plot of y = cos(ω) from ω = 0 to ω = 6π')\n",
    "plt.grid(True)\n",
    "plt.legend()\n",
    "plt.show()"
   ]
  },
  {
   "cell_type": "markdown",
   "id": "67e6e434",
   "metadata": {},
   "source": [
    "### 8) Mapping with Cartopy\n",
    "\n",
    "There are several useful toolkits for making maps in Python, including Cartopy (https://scitools.org.uk/cartopy/docs/latest/), Basemap (https://matplotlib.org/basemap/), and PyGMT (https://www.pygmt.org/latest/). We will be using Cartopy because it is one of the quickest to get started with, but other packages may be more useful for certain plotting tasks. In particular, PyGMT, which is the Python implementation of the Generic Mapping Tools software (https://www.generic-mapping-tools.org/), is a particularly powerful plotting toolkit that is used by many geophysicists.\n",
    "\n",
    "A simple example of making a map using a Mercator projection is shown below."
   ]
  },
  {
   "cell_type": "code",
   "execution_count": null,
   "id": "c66993b0",
   "metadata": {},
   "outputs": [],
   "source": [
    "import cartopy\n",
    "import cartopy.feature as cfeature\n",
    "import cartopy.crs as ccrs\n",
    "\n",
    "min_lat = 62.0\n",
    "max_lat = 68.0\n",
    "min_lon = -28.0\n",
    "max_lon = -10.0\n",
    "central_lon = (min_lon+max_lon)/2.\n",
    "extent = [min_lon, max_lon, min_lat, max_lat]\n",
    "\n",
    "plt.figure(figsize=(12, 6))\n",
    "ax = plt.axes(projection=ccrs.Mercator(central_longitude=central_lon, min_latitude=min_lat, max_latitude=max_lat))\n",
    "ax.set_extent(extent)\n",
    "\n",
    "ax.add_feature(cartopy.feature.OCEAN,facecolor='lightblue')\n",
    "ax.add_feature(cartopy.feature.LAND, edgecolor='black',facecolor='gray')\n",
    "ax.add_feature(cartopy.feature.LAKES, edgecolor='black',facecolor='lightblue')\n",
    "\n",
    "ax.plot(-16.83, 64.85, marker='^',markersize=10, color='red', transform=ccrs.Geodetic())\n",
    "ax.text(-16.6, 64.8, \"Holuhraun lava field\", transform=ccrs.Geodetic())\n",
    "ax.set_title(\"Iceland\")\n",
    "ax.gridlines()"
   ]
  },
  {
   "cell_type": "markdown",
   "id": "be07824f",
   "metadata": {},
   "source": [
    "#### <font color='red'> Question 10. Make a map of the Illinois region and plot a star to indicate the location of Champaign-Urbana.</font> \n",
    "You can plot different symbols in matplotilb by changing the \"marker\" argument. Available options are here: https://matplotlib.org/stable/api/markers_api.html. If you prefer one of the other plotting packages, feel free to use that instead of Cartopy!"
   ]
  },
  {
   "cell_type": "code",
   "execution_count": 30,
   "id": "f35aa723",
   "metadata": {},
   "outputs": [
    {
     "data": {
      "image/png": "[encoded data removed]",
      "text/plain": [
       "<Figure size 1200x800 with 1 Axes>"
      ]
     },
     "metadata": {},
     "output_type": "display_data"
    }
   ],
   "source": [
    "#Answer Q10 here\n",
    "import matplotlib.pyplot as plt\n",
    "import cartopy.feature as cfeature\n",
    "import cartopy.crs as ccrs\n",
    "\n",
    "# Define the bounding box for Illinois\n",
    "min_lat = 33.5\n",
    "max_lat = 44.5\n",
    "min_lon = -93.5\n",
    "max_lon = -84.5\n",
    "central_lon = (min_lon + max_lon) / 2\n",
    "extent = [min_lon, max_lon, min_lat, max_lat]\n",
    "\n",
    "# Create the map\n",
    "plt.figure(figsize=(12, 8))\n",
    "ax = plt.axes(projection=ccrs.Mercator(central_longitude=central_lon, min_latitude=min_lat, max_latitude=max_lat))\n",
    "ax.set_extent(extent)\n",
    "\n",
    "# Add map features\n",
    "ax.add_feature(cfeature.COASTLINE, edgecolor='black')\n",
    "ax.add_feature(cfeature.BORDERS, edgecolor='black')\n",
    "ax.add_feature(cfeature.LAND, facecolor='lightgray')\n",
    "ax.add_feature(cfeature.LAKES, edgecolor='black', facecolor='lightblue')\n",
    "\n",
    "# Plot Champaign-Urbana location with a star marker\n",
    "cu_lat, cu_lon = 40.1164, -88.2434\n",
    "ax.plot(cu_lon, cu_lat, marker='*', markersize=15, color='red', transform=ccrs.PlateCarree())\n",
    "ax.text(cu_lon + 0.1, cu_lat, \"Champaign-Urbana\", transform=ccrs.PlateCarree(), fontsize=12)\n",
    "\n",
    "# Set map title and display gridlines\n",
    "ax.set_title(\"Map of Illinois with Champaign-Urbana Location\")\n",
    "ax.gridlines()\n",
    "\n",
    "# Show the map\n",
    "plt.show()"
   ]
  },
  {
   "cell_type": "markdown",
   "id": "35633f1d",
   "metadata": {},
   "source": [
    "### 9) Advanced matplotlib tips"
   ]
  },
  {
   "cell_type": "code",
   "execution_count": null,
   "id": "ae6208bc",
   "metadata": {},
   "outputs": [],
   "source": [
    "#Instead of using plt.subplots to make multiple figure axes, we can use plt.add_axes() to manually add axes\n",
    "#objects to a figure wherever we want. While this requires a little more effort and planning, it allows much \n",
    "#greater flexibility for designing figures.\n",
    "fig = plt.figure(figsize=[12,5])\n",
    "\n",
    "ax0 = fig.add_axes([0.1,0.1,0.3,0.3]) #0.3 x 0.3 plot in the lower left\n",
    "#the only required argument for add_axes() is an array with 4 values.\n",
    "#the values are [x location of subplot, y location of subplot, width of subplot, height of subplot]\n",
    "# the values are range from 0 to 1, with the origin (0,0) in the lower left hand corner. For example, a value of \n",
    "#[0,0,1,1] would start in the lower left corner and take up the whole canvas.\n",
    "\n",
    "ax1 = fig.add_axes([0.3,0.6,0.3,0.3]) #0.3 x 0.3 plot in the top middle\n",
    "ax2 = fig.add_axes([0.8,0.8,0.05,0.05])#small (0.05 x 0.05) plot in the upper right"
   ]
  },
  {
   "cell_type": "markdown",
   "id": "ff59c04c",
   "metadata": {},
   "source": [
    "To make prettier figures, we often want to save our plots to a format that can be read by a vector graphics software\n",
    "such as Adobe Illustrator. Although Matplotlib can save figures to pdf format, which can be read by most vector graphics software, the default settings make editing the file difficult. For example, letters will be saved as vector paths rather than editable text. The default settings for how matplotlib behaves are stored in a text file called \"matplotlibrc\". To make our lives easier, we can either edit this file directly (permanent solution) or make adjustments to the parameters manually . To see where the file is located see below."
   ]
  },
  {
   "cell_type": "code",
   "execution_count": null,
   "id": "14e4dad2",
   "metadata": {},
   "outputs": [],
   "source": [
    "import matplotlib as mpl\n",
    "print(mpl.matplotlib_fname())"
   ]
  },
  {
   "cell_type": "markdown",
   "id": "b2a93795",
   "metadata": {},
   "source": [
    "The two parameters we want to adjust are \"ps.fonttype\" and \"pdf.fonttype\". To change the parameters temporarily (i.e., without changing the matplotlibrc file), we can do as follows:"
   ]
  },
  {
   "cell_type": "code",
   "execution_count": null,
   "id": "aa341d0b",
   "metadata": {},
   "outputs": [],
   "source": [
    "mpl.rcParams['pdf.fonttype'] = 42 #42 is a code so matplotlib will save 'editable' text that illustrator understands\n",
    "mpl.rcParams['ps.fonttype'] = 42"
   ]
  },
  {
   "cell_type": "markdown",
   "id": "764690e2",
   "metadata": {},
   "source": [
    "Now, if we save the figure to pdf (as below), we can easily edit in illustrator!"
   ]
  },
  {
   "cell_type": "code",
   "execution_count": 31,
   "id": "1c52c984",
   "metadata": {},
   "outputs": [
    {
     "data": {
      "image/png": "[encoded data removed]",
      "text/plain": [
       "<Figure size 1200x500 with 3 Axes>"
      ]
     },
     "metadata": {},
     "output_type": "display_data"
    }
   ],
   "source": [
    "fig = plt.figure(figsize=[12,5])\n",
    "ax0 = fig.add_axes([0.1,0.1,0.3,0.3]) #0.3 x 0.3 plot in the lower left\n",
    "ax1 = fig.add_axes([0.3,0.6,0.3,0.3]) #0.3 x 0.3 plot in the top middle\n",
    "ax2 = fig.add_axes([0.8,0.8,0.05,0.05])\n",
    "plt.savefig('fig_01.pdf',transparent=True)"
   ]
  },
  {
   "cell_type": "code",
   "execution_count": null,
   "id": "1e14ed0f",
   "metadata": {},
   "outputs": [],
   "source": []
  },
  {
   "cell_type": "code",
   "execution_count": null,
   "id": "8f668bd2",
   "metadata": {},
   "outputs": [],
   "source": []
  }
 ],
 "metadata": {
  "kernelspec": {
   "display_name": "Python 3 (ipykernel)",
   "language": "python",
   "name": "python3"
  },
  "language_info": {
   "codemirror_mode": {
    "name": "ipython",
    "version": 3
   },
   "file_extension": ".py",
   "mimetype": "text/x-python",
   "name": "python",
   "nbconvert_exporter": "python",
   "pygments_lexer": "ipython3",
   "version": "3.8.18"
  }
 },
 "nbformat": 4,
 "nbformat_minor": 5
}
